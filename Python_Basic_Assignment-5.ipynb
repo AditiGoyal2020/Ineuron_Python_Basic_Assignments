{
 "cells": [
  {
   "cell_type": "markdown",
   "id": "da0e0977",
   "metadata": {},
   "source": [
    "## 1. What does an empty dictionary's code look like?\n",
    "\n",
    "Ans:\n",
    "dict{}"
   ]
  },
  {
   "cell_type": "markdown",
   "id": "face9db0",
   "metadata": {},
   "source": [
    "## 2. What is the value of a dictionary value with the key 'foo' and the value 42?\n",
    "\n",
    "Ans:\n",
    "\n",
    "dict = {'foo': 42}\n",
    "The value for this 42."
   ]
  },
  {
   "cell_type": "markdown",
   "id": "a73a1e76",
   "metadata": {},
   "source": [
    "## 3. What is the most significant distinction between a dictionary and a list?\n",
    "\n",
    "Ans:\n",
    "\n",
    "i) The dictionary may contains any type of data in form of the key value pair.\n",
    "list may contain any type of data in the ordered form.\n",
    "\n",
    "ii) Dictionary is gated by putting the elements in {}.\n",
    "list is gated by putting the elements in [].\n"
   ]
  },
  {
   "cell_type": "markdown",
   "id": "ed644b3d",
   "metadata": {},
   "source": [
    "## 4. What happens if you try to access spam['foo'] if spam is {'bar': 100}?\n",
    "\n",
    "Ans:\n",
    "\n",
    "it will through an key error."
   ]
  },
  {
   "cell_type": "markdown",
   "id": "81360dac",
   "metadata": {},
   "source": [
    "## 5. If a dictionary is stored in spam, what is the difference between the expressions 'cat' in spam and 'cat' in spam.keys()?\n",
    "\n",
    "Ans:\n",
    "\n",
    "firstone will look for particular expression 'cat' among all key values.\n",
    "\n",
    "spam.keys() will give all the keys in the dictionary as result."
   ]
  },
  {
   "cell_type": "markdown",
   "id": "1f72db3a",
   "metadata": {},
   "source": [
    "## 6. If a dictionary is stored in spam, what is the difference between the expressions 'cat' in spam and 'cat' in spam.values()?\n",
    "\n",
    "Ans:\n",
    "\n",
    "First one will check whether 'cat' exists as key in the dictionary spam.\n",
    "\n",
    "while spam.values reflects the values for all the keys in the dictionary."
   ]
  },
  {
   "cell_type": "markdown",
   "id": "cdd5582c",
   "metadata": {},
   "source": [
    "## 7. What is a shortcut for the following code?\n",
    "if 'color' not in spam:\n",
    " spam['color'] = 'black'\n",
    "\n",
    "Ans:\n",
    "spam.setdefault('color', 'black')"
   ]
  },
  {
   "cell_type": "markdown",
   "id": "bd7dda43",
   "metadata": {},
   "source": [
    "## 8. How do you \"pretty print\" dictionary values using which module and function?\n",
    "\n",
    "Ans:\n",
    "\n",
    "import pprint\n",
    "\n",
    "pprint.pprint()"
   ]
  }
 ],
 "metadata": {
  "kernelspec": {
   "display_name": "Python 3 (ipykernel)",
   "language": "python",
   "name": "python3"
  },
  "language_info": {
   "codemirror_mode": {
    "name": "ipython",
    "version": 3
   },
   "file_extension": ".py",
   "mimetype": "text/x-python",
   "name": "python",
   "nbconvert_exporter": "python",
   "pygments_lexer": "ipython3",
   "version": "3.9.7"
  }
 },
 "nbformat": 4,
 "nbformat_minor": 5
}
