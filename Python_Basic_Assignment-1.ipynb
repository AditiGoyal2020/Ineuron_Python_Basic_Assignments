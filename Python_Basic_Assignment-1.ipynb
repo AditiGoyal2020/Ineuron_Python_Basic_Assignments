{
 "cells": [
  {
   "cell_type": "markdown",
   "id": "f303dbf1",
   "metadata": {},
   "source": [
    "## 1. In the below elements which of them are values or an expression? \n",
    "eg:- values can be integer or string and expressions will be mathematical operators.\n",
    "\n",
    "\n",
    "Ans: \n",
    "*       - Expression\n",
    "'hello' - Value\n",
    "-87.8   - Value\n",
    "-       - Expression\n",
    "/       - Expression\n",
    "+\t    - Expression\n",
    "6       - Value"
   ]
  },
  {
   "cell_type": "markdown",
   "id": "3f698c92",
   "metadata": {},
   "source": [
    "## 2.What is the difference between string and variable?\n",
    "\n",
    "Ans:\n",
    "i) Variable is somethind that is used to store the data. \n",
    "String is the type of data that can be stored in variable.\n",
    "\n",
    "ii)Example: X = \"Aditi\"\n",
    "in above example X is variable and \"Aditi\" is string."
   ]
  },
  {
   "cell_type": "markdown",
   "id": "fb516b02",
   "metadata": {},
   "source": [
    "## 3. Describe three different data types.\n",
    "\n",
    "Ans:\n",
    "String : anthing between \"\". also called as text.\n",
    "Integer: whole number\n",
    "Float: Decimal number\n",
    "Boolean: Truth value represents in form of yes/ no\n",
    "Complex: 7+6x"
   ]
  },
  {
   "cell_type": "markdown",
   "id": "741b517d",
   "metadata": {},
   "source": [
    "## 4. What is an expression made up of? What do all expressions do?\n",
    "\n",
    "Ans:\n",
    "A combination of operands and operators is called an expression.\n",
    "Expression interpretates some value after being interpretated by python interpretator."
   ]
  },
  {
   "cell_type": "markdown",
   "id": "08f53c14",
   "metadata": {},
   "source": [
    "## 5. This assignment statements, like spam = 10. \n",
    "## What is the difference between an expression and a statement?\n",
    "\n",
    "Ans:\n",
    "\n",
    "i) Statement is python is used for creating variables or for displaying the values.\n",
    "Expression in python produces some value after being interpretated by python interpretator.\n",
    "\n",
    "ii) spam = 10 is statement as it is declaring the value of variable."
   ]
  },
  {
   "cell_type": "markdown",
   "id": "dc829761",
   "metadata": {},
   "source": [
    "## 6. After running the following code, what does the variable bacon contain?\n",
    "bacon = 22\n",
    "bacon + 1\n",
    "\n",
    "Ans:\n",
    "The bacon will contain 22 as the additional value is not stored in the variable."
   ]
  },
  {
   "cell_type": "markdown",
   "id": "f0c75431",
   "metadata": {},
   "source": [
    "## 7. What should the values of the following two terms be?\n",
    "'spam' + 'spamspam'\n",
    "'spam' * 3\n",
    "\n",
    "Ans:\n",
    "'spam' + 'spamspam'  = 'spamspamspam'\n",
    "'spam' * 3 = 'spamspamspam'"
   ]
  },
  {
   "cell_type": "markdown",
   "id": "a0ce4210",
   "metadata": {},
   "source": [
    "## 8. Why is eggs a valid variable name while 100 is invalid?\n",
    "\n",
    "Ans:\n",
    "Variable can be alpha or alphanumeric but integer cannot be variable."
   ]
  },
  {
   "cell_type": "markdown",
   "id": "5ad215c9",
   "metadata": {},
   "source": [
    "## 9. What three functions can be used to get the integer, floating-point number, or string version of a value?\n",
    "\n",
    "Ans:\n",
    "Interger - int()\n",
    "Floating point number = float()\n",
    "String = str()"
   ]
  },
  {
   "cell_type": "markdown",
   "id": "966f5e7f",
   "metadata": {},
   "source": [
    "## 10. Why does this expression cause an error? How can you fix it?\n",
    "'I have eaten ' + 99 + ' burritos.'\n",
    "\n",
    "Ans:\n",
    "It will generate TypeError.\n",
    "TypeError: can only concatenate str (not \"int\") to str"
   ]
  }
 ],
 "metadata": {
  "kernelspec": {
   "display_name": "Python 3 (ipykernel)",
   "language": "python",
   "name": "python3"
  },
  "language_info": {
   "codemirror_mode": {
    "name": "ipython",
    "version": 3
   },
   "file_extension": ".py",
   "mimetype": "text/x-python",
   "name": "python",
   "nbconvert_exporter": "python",
   "pygments_lexer": "ipython3",
   "version": "3.9.7"
  }
 },
 "nbformat": 4,
 "nbformat_minor": 5
}
