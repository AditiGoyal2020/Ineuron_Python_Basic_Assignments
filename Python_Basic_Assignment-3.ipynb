{
 "cells": [
  {
   "cell_type": "markdown",
   "id": "2deb3792",
   "metadata": {},
   "source": [
    "## 1. Why are functions advantageous to have in your programs?\n",
    "\n",
    "Ans:\n",
    "Creating the function one time it can be used multiple times by just calling that function."
   ]
  },
  {
   "cell_type": "markdown",
   "id": "6b59ef75",
   "metadata": {},
   "source": [
    "## 2. When does the code in a function run: when it's specified or when it's called?\n",
    "\n",
    "Ans:\n",
    "When function called then the code in the function run."
   ]
  },
  {
   "cell_type": "markdown",
   "id": "cef1463e",
   "metadata": {},
   "source": [
    "## 3. What statement creates a function?\n",
    "\n",
    "Ans:\n",
    "def function_name():"
   ]
  },
  {
   "cell_type": "markdown",
   "id": "1fecac5b",
   "metadata": {},
   "source": [
    "## 4. What is the difference between a function and a function call?\n",
    "\n",
    "Ans: function is the created to achive desired output.\n",
    "function is called to demonstrate that output at  desired input."
   ]
  },
  {
   "cell_type": "markdown",
   "id": "4cecbb65",
   "metadata": {},
   "source": [
    "## 5. How many global scopes are there in a Python program? How many local scopes?\n",
    "\n",
    "Ans:There is one global scope and one local scope. "
   ]
  },
  {
   "cell_type": "markdown",
   "id": "7a294b75",
   "metadata": {},
   "source": [
    "## 6. What happens to variables in a local scope when the function call returns?\n",
    "\n",
    "Ans:\n",
    "Value of variable with local scope remains static through out the lifetime of that function."
   ]
  },
  {
   "cell_type": "markdown",
   "id": "6ff78286",
   "metadata": {},
   "source": [
    "## 7. What is the concept of a return value? Is it possible to have a return value in an expression?\n",
    "\n",
    "Ans:\n",
    "Return gives the output from the fucntion.\n",
    "Yes, expression can be returned as return value."
   ]
  },
  {
   "cell_type": "markdown",
   "id": "a912ef87",
   "metadata": {},
   "source": [
    "## 8. If a function does not have a return statement, what is the return value of a call to that function?\n",
    "\n",
    "Ans:\n",
    "The fucntion will exit without returning any value."
   ]
  },
  {
   "cell_type": "markdown",
   "id": "415cf407",
   "metadata": {},
   "source": [
    "## 9. How do you make a function variable refer to the global variable?\n",
    "\n",
    "Ans:\n",
    "When the variable is defined outside the scope of function or program then its called global variable.\n",
    "\n",
    "The global varaible can be used inside multiple functions. "
   ]
  },
  {
   "cell_type": "markdown",
   "id": "f3ff4375",
   "metadata": {},
   "source": [
    "## 10. What is the data type of None?\n",
    "\n",
    "Ans:\n",
    "None in python is used for missing data in python code."
   ]
  },
  {
   "cell_type": "markdown",
   "id": "203a4c6f",
   "metadata": {},
   "source": [
    "## 11. What does the sentence import areallyourpetsnamederic do?\n",
    "\n",
    "Ans:\n",
    "It will generate an below specified error:\n",
    "ModuleNotFoundError: No module named 'areallyourpetsnamederic'"
   ]
  },
  {
   "cell_type": "markdown",
   "id": "ff154b57",
   "metadata": {},
   "source": [
    "## 12. If you had a bacon() feature in a spam module, what would you call it after importing spam?\n",
    "\n",
    "Ans:\n",
    "import spam \n",
    "spam.bacon()"
   ]
  },
  {
   "cell_type": "markdown",
   "id": "c69692b8",
   "metadata": {},
   "source": [
    "## 13. What can you do to save a programme from crashing if it encounters an error?\n",
    "\n",
    "Ans:\n",
    "By adding try and exception block to the program."
   ]
  },
  {
   "cell_type": "markdown",
   "id": "296380ca",
   "metadata": {},
   "source": [
    "## 14. What is the purpose of the try clause? What is the purpose of the except clause?\n",
    "\n",
    "Ans:\n",
    "Try block let you test a block of code for error.\n",
    "\n",
    "Except block lets you handle the error."
   ]
  },
  {
   "cell_type": "code",
   "execution_count": null,
   "id": "2242c6f4",
   "metadata": {},
   "outputs": [],
   "source": []
  }
 ],
 "metadata": {
  "kernelspec": {
   "display_name": "Python 3 (ipykernel)",
   "language": "python",
   "name": "python3"
  },
  "language_info": {
   "codemirror_mode": {
    "name": "ipython",
    "version": 3
   },
   "file_extension": ".py",
   "mimetype": "text/x-python",
   "name": "python",
   "nbconvert_exporter": "python",
   "pygments_lexer": "ipython3",
   "version": "3.9.7"
  }
 },
 "nbformat": 4,
 "nbformat_minor": 5
}
