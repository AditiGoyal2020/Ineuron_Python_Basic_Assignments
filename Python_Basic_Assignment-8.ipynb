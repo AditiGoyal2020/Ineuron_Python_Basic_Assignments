{
 "cells": [
  {
   "cell_type": "markdown",
   "id": "0396e6a1",
   "metadata": {},
   "source": [
    "## 1. In Python, what is the difference between a built-in function and a user-defined function? Provide an example of each.\n",
    "\n",
    "Ans:\n",
    "library functions are build in functions. while user defined functions are declared and defined by the programmer based on their needs.\n",
    "\n",
    "Example:\n",
    "Built in function\n",
    "sum()\n",
    "\n",
    "user-defined function\n",
    "def opertaions(x,y)\n",
    "    return x+y, x-y"
   ]
  },
  {
   "cell_type": "markdown",
   "id": "211311de",
   "metadata": {},
   "source": [
    "## 2. How can you pass arguments to a function in Python? Explain the difference between positional arguments and keyword arguments.\n",
    "\n",
    "Ans:\n",
    "An argument is the value that are sent to function when it is called.\n",
    "\n",
    "Argument is passed inside the paranthesis after the name of fuction.\n",
    "sum(x,y)\n",
    "\n",
    "Positional argument is not followed by the equal sign and default value. It is passed in the specific order.\n",
    "def rectangleArea(width, height):\n",
    "    return width * height\n",
    "\n",
    "Keyword argument is followed by equal sign and default value.\n",
    "print rectangleArea(width=1, height=2)\n"
   ]
  },
  {
   "cell_type": "markdown",
   "id": "4967422a",
   "metadata": {},
   "source": [
    "## 3. What is the purpose of the return statement in a function? Can a function have multiple return statements? Explain with an example.\n",
    "\n",
    "Ans:\n",
    "Return statement is used to end the execution of function call and return result.\n",
    "Return multiple values by simply separating them with commas in the return statement.\n",
    "Example:\n",
    "\n",
    "def opertaions(x,y)\n",
    "    return x+y, x-y"
   ]
  },
  {
   "cell_type": "markdown",
   "id": "61d519fc",
   "metadata": {},
   "source": [
    "## 4. What are lambda functions in Python? How are they different from regular functions? Provide an example where a lambda function can be useful.\n",
    "\n",
    "Ans:\n",
    "lambda function is a special type of function without function name. it is single line user defined function.\n",
    "\n",
    "sum = lambda x,y :x+y"
   ]
  },
  {
   "cell_type": "markdown",
   "id": "acc5ff8d",
   "metadata": {},
   "source": [
    "## 5. How does the concept of \"scope\" apply to functions in Python? Explain the difference between local scope and global scope.\n",
    "\n",
    "Ans:\n",
    "variable that is defined inside a function body have a local scope and those outsidethe fucntion body have a global scope."
   ]
  },
  {
   "cell_type": "markdown",
   "id": "ff7f2c2c",
   "metadata": {},
   "source": [
    "## 6. How can you use the \"return\" statement in a Python function to return multiple values?\n",
    "\n",
    "Ans:\n",
    "Return multiple values by simply separating them with commas in the return statement.\n",
    "Example:\n",
    "\n",
    "def opertaions(x,y)\n",
    "    return x+y, x-y"
   ]
  },
  {
   "cell_type": "markdown",
   "id": "0ffc1f1e",
   "metadata": {},
   "source": [
    "## 7. What is the difference between the \"pass by value\" and \"pass by reference\" concepts when it comes to function arguments in Python?\n",
    "\n",
    "Ans:\n",
    "\"Pass by reference\" means the argument passed by referance which means address of the variable and the operation is done on the value stored at the addresses. \n",
    "\n",
    "\"Pass by value\" means the value is directly passed as the value to the argument of the function. Operation is done on the value and then the value stored at the address. "
   ]
  },
  {
   "cell_type": "markdown",
   "id": "bfcb6b41",
   "metadata": {},
   "source": [
    "## 8.Create a function that can intake integer or decimal value and do following operations:\n",
    "a. Logarithmic function (log x)\n",
    "b. Exponential function (exp(x))\n",
    "c. Power function with base 2 (2x)\n",
    "d. Square root\n",
    "\n",
    "Ans:\n",
    "\n",
    "import math\n",
    "\n",
    "a) math.log()\n",
    "b) math.exp()\n",
    "c) pow(7,2)\n",
    "d) math.sqrt(80)"
   ]
  },
  {
   "cell_type": "markdown",
   "id": "38c2023b",
   "metadata": {},
   "source": [
    "## 9.Create a function that takes a full name as an argument and returns first name and last name.\n",
    "\n",
    "Ans:\n",
    "first = input(str(\"\"))\n",
    "second = input(str(\"\"))\n",
    "def full_name(first, second):\n",
    "        return first + \" \" + second, first, second "
   ]
  },
  {
   "cell_type": "code",
   "execution_count": null,
   "id": "ce0e0da9",
   "metadata": {},
   "outputs": [],
   "source": []
  },
  {
   "cell_type": "code",
   "execution_count": 2,
   "id": "c516f3ba",
   "metadata": {},
   "outputs": [],
   "source": []
  },
  {
   "cell_type": "code",
   "execution_count": null,
   "id": "53e63c50",
   "metadata": {},
   "outputs": [],
   "source": []
  },
  {
   "cell_type": "code",
   "execution_count": null,
   "id": "04aa1e31",
   "metadata": {},
   "outputs": [],
   "source": []
  }
 ],
 "metadata": {
  "kernelspec": {
   "display_name": "Python 3 (ipykernel)",
   "language": "python",
   "name": "python3"
  },
  "language_info": {
   "codemirror_mode": {
    "name": "ipython",
    "version": 3
   },
   "file_extension": ".py",
   "mimetype": "text/x-python",
   "name": "python",
   "nbconvert_exporter": "python",
   "pygments_lexer": "ipython3",
   "version": "3.9.7"
  }
 },
 "nbformat": 4,
 "nbformat_minor": 5
}
