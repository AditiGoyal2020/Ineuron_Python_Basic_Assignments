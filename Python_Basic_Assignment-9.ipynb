{
 "cells": [
  {
   "cell_type": "markdown",
   "id": "228dfe15",
   "metadata": {},
   "source": [
    "## What is a lambda function in Python, and how does it differ from a regular function?\n",
    "\n",
    "Ans:\n",
    "\n",
    "i) it is the function that can take any number of arguments but unlike normal function evaluates and return only one expression.\n",
    "\n",
    "ii) They are generally used for one-line expressions. Normal functions are created using the def keyword."
   ]
  },
  {
   "cell_type": "markdown",
   "id": "270600fd",
   "metadata": {},
   "source": [
    "## Can a lambda function in Python have multiple arguments? If yes, how can you define and use them?\n",
    "\n",
    "Ans:\n",
    "Lambda function in python can have multiple arguments but single expression.\n",
    "    \n",
    " example:\n",
    " new_func = lambda x,y: x+y\n",
    " x+y is an expression and x, y are argument."
   ]
  },
  {
   "cell_type": "markdown",
   "id": "1bd0cbe7",
   "metadata": {},
   "source": [
    "## How are lambda functions typically used in Python? Provide an example use case.\n",
    "\n",
    "Ans:\n",
    "new_func = lambda x,y : (x+y, x-y)"
   ]
  },
  {
   "cell_type": "markdown",
   "id": "cfdfad3e",
   "metadata": {},
   "source": [
    "## What are the advantages and limitations of lambda functions compared to regular functions in Python?\n",
    "\n",
    "Ans:\n",
    "i) def is the word used to define the name of function in local namespace in case of regular function.\n",
    "lambda is the keyword that returns a function object and does not create a 'name' in the local namespace.\n",
    "\n",
    "ii) A function defined with 'def' can contain any python code.\n",
    "lambda function is used to evaluate expression."
   ]
  },
  {
   "cell_type": "markdown",
   "id": "7842a357",
   "metadata": {},
   "source": [
    "## Are lambda functions in Python able to access variables defined outside of their own scope?Explain with an example.\n",
    "\n",
    "Ans:\n",
    "Lambda functions have their own local namespace and cannot access variables other than those in their parameter list and those in the global namespace.\n",
    "example:\n",
    "new_func = lambda x, i=2 : (x%i==0)"
   ]
  },
  {
   "cell_type": "markdown",
   "id": "ec0591ca",
   "metadata": {},
   "source": [
    "## Write a lambda function to calculate the square of a given number.\n",
    "\n",
    "Ans:\n",
    "import math\n",
    "new_func = lambda x: math.sqrt(x)\n",
    "\n",
    "or \n",
    "\n",
    "square = lambda x: x**2"
   ]
  },
  {
   "cell_type": "markdown",
   "id": "415988dd",
   "metadata": {},
   "source": [
    "## Create a lambda function to find the maximum value in a list of integers.\n",
    "\n",
    "Ans:\n",
    "list = [2,45,89,10]\n",
    "maximum = max(list, key = lambda x:int(x))"
   ]
  },
  {
   "cell_type": "markdown",
   "id": "e2ee378e",
   "metadata": {},
   "source": [
    "## Implement a lambda function to filter out all the even numbers from a list of integers.\n",
    "\n",
    "Ans:\n",
    "list(map(lambda x:x%2==0, range(20)))"
   ]
  },
  {
   "cell_type": "markdown",
   "id": "dceeea75",
   "metadata": {},
   "source": [
    "## Write a lambda function to sort a list of strings in ascending order based on the length of each string.\n",
    "\n",
    "Ans:\n",
    "s = sorted(list, key = lambda x: int(x))"
   ]
  },
  {
   "cell_type": "markdown",
   "id": "88410c25",
   "metadata": {},
   "source": [
    "## 11. Write a recursive function to calculate the factorial of a given positive integer.\n",
    "\n",
    "Ans:\n",
    "num = int(input())\n",
    "fact = 1\n",
    "\n",
    "for i in range(1, num+1):\n",
    " fact = fact*i\n",
    "print(fact)\n"
   ]
  },
  {
   "cell_type": "markdown",
   "id": "d1f483b7",
   "metadata": {},
   "source": [
    "## 12. Implement a recursive function to compute the nth Fibonacci number.\n",
    "\n",
    "Ans:\n",
    "number = int(input(\"enter the int: \"))\n",
    "def fibonaaci(number):\n",
    "    if (number == 0):\n",
    "        return 0\n",
    "    elif (number == 1):\n",
    "        return 1\n",
    "    else:\n",
    "        return (fibonaaci(number-2)+ fibonaaci(number-1))\n",
    "\n",
    "for i in range(0,number):\n",
    "    print(fibonaaci(i))"
   ]
  },
  {
   "cell_type": "markdown",
   "id": "6014b79f",
   "metadata": {},
   "source": [
    "## 13.Create a recursive function to find the sum of all the elements in a given list.\n",
    "\n",
    "Ans:\n",
    "def get_sum(list):\n",
    "    total = sum(list)\n",
    "    return total"
   ]
  },
  {
   "cell_type": "markdown",
   "id": "6ca091e7",
   "metadata": {},
   "source": [
    "## 14.Write a recursive function to determine whether a given string is a palindrome.\n",
    "\n",
    "Ans:\n",
    "\n",
    "def is_palindrome(s):\n",
    "    if len(s) < 1:\n",
    "        return True\n",
    "    else:\n",
    "        if s[0] == s[-1]:\n",
    "            return is_palindrome(s[1:-1])\n",
    "        else:\n",
    "            return False\n",
    "\n",
    "a=str(input(\"Enter string:\"))\n",
    "if(is_palindrome(a)==True):\n",
    "    print(\"String is a palindrome!\")\n",
    "else:\n",
    "    print(\"String isn't a palindrome!\")"
   ]
  },
  {
   "cell_type": "markdown",
   "id": "711e89b2",
   "metadata": {},
   "source": [
    "## 15.Implement a recursive function to find the greatest common divisor (GCD) of two positive integers.\n",
    "\n",
    "Ans:\n",
    "def gcf(num1 , num2):\n",
    "    if num1 > num2:\n",
    "        num1, num2 = num2, num1\n",
    "    for x in range (num1, 0, -1):\n",
    "        if num1%x ==0 and num2 % x ==0:\n",
    "            return x"
   ]
  }
 ],
 "metadata": {
  "kernelspec": {
   "display_name": "Python 3 (ipykernel)",
   "language": "python",
   "name": "python3"
  },
  "language_info": {
   "codemirror_mode": {
    "name": "ipython",
    "version": 3
   },
   "file_extension": ".py",
   "mimetype": "text/x-python",
   "name": "python",
   "nbconvert_exporter": "python",
   "pygments_lexer": "ipython3",
   "version": "3.9.7"
  }
 },
 "nbformat": 4,
 "nbformat_minor": 5
}
