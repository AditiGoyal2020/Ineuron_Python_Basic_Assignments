{
 "cells": [
  {
   "cell_type": "markdown",
   "id": "a806587a",
   "metadata": {},
   "source": [
    "## 1. What exactly is []?\n",
    "\n",
    "Ans:\n",
    "This is the symbol used to create the list.\n",
    "[] this is the empty list."
   ]
  },
  {
   "cell_type": "markdown",
   "id": "e770038b",
   "metadata": {},
   "source": [
    "## 2. In a list of values stored in a variable called spam, how would you assign the value 'hello' as the third value? \n",
    "(Assume [2, 4, 6, 8, 10] are in spam.)\n",
    "\n",
    "Ans:\n",
    "spam[2] == \"hello\""
   ]
  },
  {
   "cell_type": "markdown",
   "id": "90441731",
   "metadata": {},
   "source": [
    "## Let's pretend the spam includes the list ['a', 'b', 'c', 'd'] for the next three queries.\n",
    "spam = ['a', 'b', 'c', 'd']"
   ]
  },
  {
   "cell_type": "markdown",
   "id": "41d955a8",
   "metadata": {},
   "source": [
    "3. What is the value of spam[int(int('3' * 2) / 11)]?\n",
    "\n",
    "Ans:\n",
    "    'd'"
   ]
  },
  {
   "cell_type": "markdown",
   "id": "c0f5ee4f",
   "metadata": {},
   "source": [
    "4. What is the value of spam[-1]?\n",
    "\n",
    "Ans:\n",
    "    'd'"
   ]
  },
  {
   "cell_type": "markdown",
   "id": "abacda87",
   "metadata": {},
   "source": [
    "## 5. What is the value of spam[:2]?\n",
    "\n",
    "Ans:\n",
    "   ['a', 'b']"
   ]
  },
  {
   "cell_type": "code",
   "execution_count": 7,
   "id": "2c3d4f3c",
   "metadata": {},
   "outputs": [],
   "source": [
    "## Let's pretend bacon has the list [3.14, 'cat,' 11, 'cat,' True] for the next three questions.\n",
    "\n",
    "bacon = [3.14, 'cat', 11, 'cat', True]"
   ]
  },
  {
   "cell_type": "markdown",
   "id": "622c0054",
   "metadata": {},
   "source": [
    "## 6. What is the value of bacon.index('cat')?\n",
    "\n",
    "Ans:\n",
    "1"
   ]
  },
  {
   "cell_type": "markdown",
   "id": "99201da6",
   "metadata": {},
   "source": [
    "## 7. How does bacon.append(99) change the look of the list value in bacon?\n",
    "\n",
    "Ans:\n",
    "99 will be added to the list at the last position.\n",
    "The list will be updated after that as below:\n",
    "[3.14, 'cat', 11, 'cat', True, 99]"
   ]
  },
  {
   "cell_type": "markdown",
   "id": "7af61b48",
   "metadata": {},
   "source": [
    "## 8. How does bacon.remove('cat') change the look of the list in bacon?\n",
    "\n",
    "Ans:\n",
    "cat will be removed from the list bacon.\n",
    "The list will be updated after that as below:\n",
    "[3.14, 11, 'cat', True, 99]"
   ]
  },
  {
   "cell_type": "markdown",
   "id": "5fc13dc2",
   "metadata": {},
   "source": [
    "## 9. What are the list concatenation and list replication operators?\n",
    "\n",
    "Ans:\n",
    "\n",
    "List concatenation operator is +\n",
    "\n",
    "List replication operator is *"
   ]
  },
  {
   "cell_type": "markdown",
   "id": "a6f2da30",
   "metadata": {},
   "source": [
    "## 10. What is difference between the list methods append() and insert()?\n",
    "\n",
    "Ans:\n",
    "\n",
    "append() will add the value at the last position of the list.\n",
    "\n",
    "insert() will add the value at the indicated index position of the list."
   ]
  },
  {
   "cell_type": "markdown",
   "id": "736bcbb9",
   "metadata": {},
   "source": [
    "## 11. What are the two methods for removing items from a list?\n",
    "\n",
    "Ans:\n",
    "\n",
    "list.pop() will take the index value.\n",
    "\n",
    "list.remove() will take the value needed to be removed."
   ]
  },
  {
   "cell_type": "markdown",
   "id": "62a4a9c7",
   "metadata": {},
   "source": [
    "## 12. Describe how list values and string values are identical.\n",
    "\n",
    "Ans:\n",
    "Similarity between string and list is they both are sequenced."
   ]
  },
  {
   "cell_type": "markdown",
   "id": "d9f9b3b5",
   "metadata": {},
   "source": [
    "## 13. What's the difference between tuples and lists?\n",
    "\n",
    "Ans:\n",
    "\n",
    "i) Tuples are immutable. list are mutable.\n",
    "\n",
    "ii) Tuple is stored using () . list are stored [].\n",
    "\n",
    "iii) As tuples are immutable append, extent, insert like functions are not available for tuple while those are availble for list."
   ]
  },
  {
   "cell_type": "markdown",
   "id": "08c3af16",
   "metadata": {},
   "source": [
    "## 14. How do you type a tuple value that only contains the integer 42?\n",
    "\n",
    "Ans:\n",
    "\n",
    "(42)"
   ]
  },
  {
   "cell_type": "markdown",
   "id": "7ead4262",
   "metadata": {},
   "source": [
    "## 15. How do you get a list value's tuple form? How do you get a tuple value's list form?\n",
    "\n",
    "Ans:\n",
    "    The tuple will be converted to list by using:\n",
    "        list(l1)\n",
    "        \n",
    "    The list will be converted to tuple by using:\n",
    "        tuple(l1)"
   ]
  },
  {
   "cell_type": "markdown",
   "id": "7e96c0b7",
   "metadata": {},
   "source": [
    "## 16. Variables that \"contain\" list values are not necessarily lists themselves. Instead, what do they contain?\n",
    "\n",
    "Ans:\n",
    "Variable that contain list need not necessarily list that can be alpha or alpha numeric.\n"
   ]
  },
  {
   "cell_type": "markdown",
   "id": "d8d5e409",
   "metadata": {},
   "source": [
    "## 17. How do you distinguish between copy.copy() and copy.deepcopy()?\n",
    "\n",
    "Ans:\n",
    "\n",
    "A shallow copy constructs a new compound object and then (to the extent possible) \n",
    "inserts references into it to the objects found in the original. \n",
    "A deep copy constructs a new compound object and then, recursively, \n",
    "inserts copies into it of the objects found in the original.\n",
    "\n",
    "copy() creates a reference to the original object. If you change copied object - you change the original object. . deepcopy() creates a new object and does real copying of original object to new one. Changing new deepcopied object doesn't affect original object."
   ]
  }
 ],
 "metadata": {
  "kernelspec": {
   "display_name": "Python 3 (ipykernel)",
   "language": "python",
   "name": "python3"
  },
  "language_info": {
   "codemirror_mode": {
    "name": "ipython",
    "version": 3
   },
   "file_extension": ".py",
   "mimetype": "text/x-python",
   "name": "python",
   "nbconvert_exporter": "python",
   "pygments_lexer": "ipython3",
   "version": "3.9.7"
  }
 },
 "nbformat": 4,
 "nbformat_minor": 5
}
