{
 "cells": [
  {
   "cell_type": "markdown",
   "id": "fb9ed2e5",
   "metadata": {},
   "source": [
    "## 1. What is the role of try and exception block?\n",
    "\n",
    "Ans:\n",
    "Try block lets you test a block for an error.\n",
    "except block lets you handle that error.\n",
    "\n",
    "Example:\n",
    "try: \n",
    "    even_numbers= [2,4,6,8]\n",
    "    print(even_numbers[5])\n",
    "except IndexError:\n",
    "    print(\"list index out of range\")\n",
    "except ZeroDivisionError:\n",
    "    print(\"Denominator cannot be 0.\")    "
   ]
  },
  {
   "cell_type": "markdown",
   "id": "0bc04536",
   "metadata": {},
   "source": [
    "## 2. What is the syntax for a basic try-except block?\n",
    "\n",
    "Ans:\n",
    "\n",
    "try:\n",
    "    # Some Code\n",
    "except:\n",
    "    # Executed if error in the\n",
    "    # try block"
   ]
  },
  {
   "cell_type": "markdown",
   "id": "4581a2d3",
   "metadata": {},
   "source": [
    "## 3. What happens if an exception occurs inside a try block and there is no matching except block?\n",
    "\n",
    "Ans:\n",
    "\n",
    "If any exception occurs, the try clause will be skipped and except clause will run. if any exception occurs, but the except clause within the code doesn't handle it, it is passed on to the outer try statements. \n",
    "The exception remain unhandled , then the execution stop.\n",
    "\n",
    "it will through the relevant error."
   ]
  },
  {
   "cell_type": "markdown",
   "id": "ec0eee13",
   "metadata": {},
   "source": [
    "## 4. What is the difference between using a bare except block and specifying a specific exception type?\n",
    "\n",
    "Ans:\n",
    "Bare except block will handle all the errors in the single except block while specific except block will handle the specified error only."
   ]
  },
  {
   "cell_type": "markdown",
   "id": "20edcce2",
   "metadata": {},
   "source": [
    "## 5.Can you have nested try-except blocks in Python? If yes, then give an example.\n",
    "\n",
    "Ans:\n",
    "Yes, we can try nested try and except block.\n",
    "if an exception is raised in the nested try block, the nested except block is used to handle it. In case the nested except is not able to handle it, the outer except blocks are used to handle the exception.\n",
    "Example:\n",
    "def divide(x, y):\n",
    "    try:\n",
    "        print(f'{x}/{y} is {x / y}')\n",
    "    except ZeroDivisionError as e:\n",
    "        print(e)"
   ]
  },
  {
   "cell_type": "markdown",
   "id": "6fa55a1b",
   "metadata": {},
   "source": [
    "## 6.Can we use multiple exception blocks, if yes then give an example.\n",
    "\n",
    "Ans:\n",
    " yes, we can use multiple exception blocks.\n",
    " \n",
    "Example:\n",
    "try:\n",
    " even_numbers = [2,4,6,8]\n",
    " even_numbers[5]\n",
    "except IndexError:\n",
    "    print(\"index out of range\")\n",
    "except ZeroDivisionError:\n",
    "    print(\"Denominator cannot be 0.\")"
   ]
  },
  {
   "cell_type": "markdown",
   "id": "0e3ee5fa",
   "metadata": {},
   "source": [
    "## 7. Write the reason due to which following errors are raised:\n",
    "a. EOFError\n",
    "b. FloatingPointError\n",
    "c. IndexError\n",
    "d. MemoryError\n",
    "e. OverflowError\n",
    "f. TabError\n",
    "g. ValueError\n",
    "\n",
    "Ans:\n",
    "a. EOFError - EOF stands for \"end of file,\" and this syntax error occurs when Python detects an unfinished statement or block of code.\n",
    "\n",
    "b. FloatingPointE.rror - Floating-point decimal values generally do not have an exact binary representation.\n",
    "\n",
    "c. IndexError - he ultimate cause of IndexError is an attempt to access an item that doesn't exist within a data structure.\n",
    "\n",
    "d. MemoryError - issue in the setup of the Python environment or it may be a concern with the code itself loading too much data at the same time.\n",
    "\n",
    "e. OverflowError - OverflowError is raised when the result of an arithmetic operation is too large.\n",
    "\n",
    "f. TabError - You are also not allowed to mix spaces and tabs for indentation in Python 3. You could use either all spaces or all tabs, and mixing them would cause a TabError.\n",
    "\n",
    "e. ValueError - raised when the wrong value is assigned to an object."
   ]
  },
  {
   "cell_type": "markdown",
   "id": "775346aa",
   "metadata": {},
   "source": [
    "## Write code for the following given scenario and add try-exception block to it.\n",
    "a. Program to divide two numbers\n",
    "b. Program to convert a string to an integer\n",
    "c. Program to access an element in a list\n",
    "d. Program to handle a specific exception\n",
    "e. Program to handle any exception\n",
    "\n",
    "Ans:\n",
    "\n",
    "a) Program to divide two numbers:\n",
    "try:\n",
    "    x =24\n",
    "    y =0\n",
    "    result = x/y\n",
    "    print(result)\n",
    "except ZeroDivisionError:\n",
    "    print(\"ZeroDivisionError\")\n",
    "\n",
    "b) Program to convert a string to an integer\n",
    "try:\n",
    "    num = int(input(\"Enter the integer: \"))\n",
    "    result = str(num)\n",
    "    print(\"enter type of data: \" , type(result))\n",
    "except:\n",
    "    print(\"Error\")\n",
    "\n",
    "c) Program to access an element in a list\n",
    "try:\n",
    "    list = [2,3,4,5]\n",
    "    for i in list:\n",
    "        print(i)\n",
    "except:\n",
    "    print(\"Error\")\n",
    "\n",
    "d) Program to handle a specific exception\n",
    "try: \n",
    "    result = x/y\n",
    "    print(result)\n",
    "except ZeroDivisionError:\n",
    "print(\"Denominator cannot be 0.\")   \n",
    "\n",
    "e) Program to handle any exception\n",
    "try: \n",
    "    even_numbers= [2,4,6,8]\n",
    "    print(even_numbers[5])\n",
    "except:\n",
    "    print(\"error\")"
   ]
  },
  {
   "cell_type": "code",
   "execution_count": null,
   "id": "ab09a3b1",
   "metadata": {},
   "outputs": [],
   "source": []
  },
  {
   "cell_type": "code",
   "execution_count": null,
   "id": "16eb701a",
   "metadata": {},
   "outputs": [],
   "source": []
  },
  {
   "cell_type": "code",
   "execution_count": null,
   "id": "ac0ed5fb",
   "metadata": {},
   "outputs": [],
   "source": []
  },
  {
   "cell_type": "code",
   "execution_count": null,
   "id": "2242cf33",
   "metadata": {},
   "outputs": [],
   "source": []
  },
  {
   "cell_type": "code",
   "execution_count": null,
   "id": "ca250513",
   "metadata": {},
   "outputs": [],
   "source": []
  },
  {
   "cell_type": "code",
   "execution_count": null,
   "id": "f86052da",
   "metadata": {},
   "outputs": [],
   "source": []
  },
  {
   "cell_type": "code",
   "execution_count": null,
   "id": "05af09c3",
   "metadata": {},
   "outputs": [],
   "source": []
  }
 ],
 "metadata": {
  "kernelspec": {
   "display_name": "Python 3 (ipykernel)",
   "language": "python",
   "name": "python3"
  },
  "language_info": {
   "codemirror_mode": {
    "name": "ipython",
    "version": 3
   },
   "file_extension": ".py",
   "mimetype": "text/x-python",
   "name": "python",
   "nbconvert_exporter": "python",
   "pygments_lexer": "ipython3",
   "version": "3.9.7"
  }
 },
 "nbformat": 4,
 "nbformat_minor": 5
}
