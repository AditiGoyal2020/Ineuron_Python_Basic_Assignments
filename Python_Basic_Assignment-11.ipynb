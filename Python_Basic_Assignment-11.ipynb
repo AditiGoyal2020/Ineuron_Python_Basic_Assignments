{
 "cells": [
  {
   "cell_type": "markdown",
   "id": "63597594",
   "metadata": {},
   "source": [
    "## 1. What is the role of the 'else' block in a try-except statement? Provide an example scenario where it would be useful.\n",
    "\n",
    "Ans:\n",
    "\n",
    "try:\n",
    "    operation_that_can_throw_ioerror()\n",
    "except IOError:\n",
    "    handle_the_exception_somehow()\n",
    "else:\n",
    "    # we don't want to catch the IOError if it's raised\n",
    "    another_operation_that_can_throw_ioerror()\n",
    "finally:\n",
    "    something_we_always_need_to_do()\n",
    "\n",
    "Example:\n",
    "try:\n",
    "    25%4 ==0\n",
    "except ZeroDivisionError:\n",
    "    print(\"Denominator cannot be 0.\")    \n",
    "else:\n",
    "    print(\"not a divident\")"
   ]
  },
  {
   "cell_type": "markdown",
   "id": "97dd5e5b",
   "metadata": {},
   "source": [
    "## 2. Can a try-except block be nested inside another try-except block? Explain with an example.\n",
    "\n",
    "Ans:\n",
    "Yes, try-except block be nested inside another try-except block.\n",
    "In this case, if an exception is raised in the nested try block, the nested except block is used to handle it. In case the nested except is not able to handle it, the outer except blocks are used to handle the exception.\n",
    "Example:\n",
    "try:\n",
    "    x = int(input(\"Enter a number: \"))\n",
    "    y = int(input(\"Enter another number: \"))\n",
    "    \n",
    "    try:\n",
    "        result = x / y\n",
    "        print(\"Result:\", result)\n",
    "    except ZeroDivisionError:\n",
    "        print(\"Error: Division by zero in inner try-except block\")\n",
    "finally:\n",
    "    print('result executed')"
   ]
  },
  {
   "cell_type": "markdown",
   "id": "b99759a3",
   "metadata": {},
   "source": [
    "## 3.How can you create a custom exception class in Python? Provide an example that demonstrates its usage\n",
    "\n",
    "Ans:\n",
    "try:\n",
    "    raise MyException({\"message\":\"My hovercraft is full of animals\", \"animal\":\"eels\"})\n",
    "except MyException as e:\n",
    "    details = e.args[0]\n",
    "    print(details[\"animal\"])"
   ]
  },
  {
   "cell_type": "markdown",
   "id": "515885a9",
   "metadata": {},
   "source": [
    "## 4.What are some common exceptions that are built-in to Python?\n",
    "\n",
    "Ans:\n",
    "a) KeyError - Raised when a key does not exist in a dictionary\n",
    "b) KeyboardInterrupt -\tRaised when the user presses Ctrl+c, Ctrl+z or Delete\n",
    "c) LookupError\t- Raised when errors raised cant be found\n",
    "d) MemoryError\t- Raised when a program runs out of memory"
   ]
  },
  {
   "cell_type": "markdown",
   "id": "283456a0",
   "metadata": {},
   "source": [
    "## 5.What is logging in Python, and why is it important in software development?\n",
    "\n",
    "Ans:\n",
    "Meaning of logging:\n",
    "Logging is a way to store information about your script and track events that occur. When writing any complex script in Python, logging is essential for debugging software as you develop it. \n",
    "Its importance:\n",
    "Without logging, finding the source of a problem in your code may be extremely time consuming."
   ]
  },
  {
   "cell_type": "markdown",
   "id": "d73dd4f3",
   "metadata": {},
   "source": [
    "## 6.Explain the purpose of log levels in Python logging and provide examples of when each log level would be appropriate.\n",
    "\n",
    "Ans:\n",
    "Log levels relate to the “importance” of the log. \n",
    "\n",
    "For example, an “error” log is a top priority and should be considered more urgent than a “warn” log. A “debug” log is usually only useful when the application is being debugged."
   ]
  },
  {
   "cell_type": "markdown",
   "id": "ce243fdf",
   "metadata": {},
   "source": [
    "## 7. What are log formatters in Python logging, and how can you customise the log message format using formatters?\n",
    "\n",
    "Ans:\n",
    "Fomatter specify the layout of log records in the final output. \n",
    "A formatter is created and added to the handler to transform log messages into placeholder data. In this formatter, the time of the log request (as an epoch timestamp), the logging level, the logger's name, the module name, and the log message will all print.\n",
    "\n",
    "setLevel(logging.INFO) # Create a message format that matches earlier example formatter = logging. Formatter('%(asctime)s - %(name)s - %(levelname)s - %(message)s')"
   ]
  },
  {
   "cell_type": "markdown",
   "id": "ffccfe54",
   "metadata": {},
   "source": [
    "## 8. How can you set up logging to capture log messages from multiple modules or classes in a Python application?\n",
    "\n",
    "Ans:\n",
    "i)import logger.\n",
    "ii) Create and configure the logger.\n",
    "iii) Here the format of the logger can also be set.\n",
    "iv) Also, the level of the logger can be set which acts as the threshold for tracking based on the numeric values assigned to each level."
   ]
  },
  {
   "cell_type": "markdown",
   "id": "0806ff64",
   "metadata": {},
   "source": [
    "# What is the difference between the logging and print statements in Python? When should you use logging over print statements in a real-world application?\n",
    "\n",
    "Ans:\n",
    "DIFFERENCE\n",
    "logging is the inbuilt module in python constist of six levels: Nonset, debug, info, warning , error and critical.\n",
    "while print statement is the inbulit fucntion in python.\n",
    "\n",
    "REASON:\n",
    "i) Print statement will not be timestamped it will not indicate when the error was being occured.\n",
    "ii) Print statement will unessisarily make the application heavy with undesired information."
   ]
  },
  {
   "cell_type": "markdown",
   "id": "0bb6dc27",
   "metadata": {},
   "source": [
    "## 10. Write a Python program that logs a message to a file named \"app.log\" with thefollowing requirements:\n",
    "● The log message should be \"Hello, World!\"\n",
    "● The log level should be set to \"INFO.\"\n",
    "● The log file should append new log entries without overwriting previous ones\n",
    "\n",
    "Ans:\n"
   ]
  },
  {
   "cell_type": "markdown",
   "id": "201fc7de",
   "metadata": {},
   "source": [
    "## 11. Create a Python program that logs an error message to the console and a file named \"errors.log\" if an exception occurs during the program's execution. The error message should include the exception type and a timestamp.\n",
    "\n",
    "Ans:\n"
   ]
  },
  {
   "cell_type": "code",
   "execution_count": 10,
   "id": "55962bd7",
   "metadata": {},
   "outputs": [
    {
     "ename": "SyntaxError",
     "evalue": "'return' outside function (Temp/ipykernel_19240/3523988005.py, line 7)",
     "output_type": "error",
     "traceback": [
      "\u001b[1;36m  File \u001b[1;32m\"C:\\Users\\ADITIG~1\\AppData\\Local\\Temp/ipykernel_19240/3523988005.py\"\u001b[1;36m, line \u001b[1;32m7\u001b[0m\n\u001b[1;33m    return 42\u001b[0m\n\u001b[1;37m    ^\u001b[0m\n\u001b[1;31mSyntaxError\u001b[0m\u001b[1;31m:\u001b[0m 'return' outside function\n"
     ]
    }
   ],
   "source": [
    "try:\n",
    "    100/z\n",
    "except ZeroDivisionError:\n",
    "    try:\n",
    "        print('x')\n",
    "    finally:\n",
    "        return 42\n",
    "finally:\n",
    "    return 1"
   ]
  },
  {
   "cell_type": "code",
   "execution_count": 18,
   "id": "45ad1b07",
   "metadata": {},
   "outputs": [
    {
     "ename": "SyntaxError",
     "evalue": "'return' outside function (Temp/ipykernel_19240/1709125957.py, line 11)",
     "output_type": "error",
     "traceback": [
      "\u001b[1;36m  File \u001b[1;32m\"C:\\Users\\ADITIG~1\\AppData\\Local\\Temp/ipykernel_19240/1709125957.py\"\u001b[1;36m, line \u001b[1;32m11\u001b[0m\n\u001b[1;33m    return out\u001b[0m\n\u001b[1;37m    ^\u001b[0m\n\u001b[1;31mSyntaxError\u001b[0m\u001b[1;31m:\u001b[0m 'return' outside function\n"
     ]
    }
   ],
   "source": [
    "import numpy as np\n",
    "\n",
    "try:\n",
    "    out = x/y\n",
    "except:\n",
    "    try:\n",
    "        out = np.inf * x / abs(x)\n",
    "    except:\n",
    "        out = np.nan\n",
    "finally:\n",
    "    return out"
   ]
  },
  {
   "cell_type": "code",
   "execution_count": 5,
   "id": "e24e45fe",
   "metadata": {},
   "outputs": [
    {
     "name": "stdout",
     "output_type": "stream",
     "text": [
      "enter an integer: 25\n",
      "enter an integer: 2\n",
      "result executed\n"
     ]
    }
   ],
   "source": [
    "try:\n",
    "    x = int(input(\"enter an integer: \"))\n",
    "    y = int(input(\"enter an integer: \"))\n",
    "    x%y == 0\n",
    "except:\n",
    "    try:\n",
    "        x%2 ==0\n",
    "        print(\"sucessful\")\n",
    "    except Error:\n",
    "        print(\"Error\")\n",
    "finally:\n",
    "    print('result executed')\n",
    "    "
   ]
  },
  {
   "cell_type": "code",
   "execution_count": 6,
   "id": "963ac91a",
   "metadata": {},
   "outputs": [
    {
     "name": "stdout",
     "output_type": "stream",
     "text": [
      "enter an integer: 25\n",
      "enter an integer: 2\n",
      "result executed\n"
     ]
    }
   ],
   "source": [
    "try:\n",
    "    x = int(input(\"enter an integer: \"))\n",
    "    y = int(input(\"enter an integer: \"))\n",
    "    if x % y == 0:\n",
    "        print(\"x is divisible by y\")\n",
    "except ZeroDivisionError:\n",
    "    print(\"Error: Division by zero\")\n",
    "except ValueError:\n",
    "    try:\n",
    "        if x % 2 == 0:\n",
    "            print(\"x is even\")\n",
    "        else:\n",
    "            print(\"x is odd\")\n",
    "    except:\n",
    "        print(\"Error: Some issue with checking if x is even\")\n",
    "finally:\n",
    "    print('result executed')"
   ]
  },
  {
   "cell_type": "code",
   "execution_count": 8,
   "id": "69b4dd26",
   "metadata": {},
   "outputs": [
    {
     "name": "stdout",
     "output_type": "stream",
     "text": [
      "Enter a number: 25\n",
      "Enter another number: 0\n",
      "Error: Division by zero in inner try-except block\n",
      "result executed\n"
     ]
    }
   ],
   "source": [
    "try:\n",
    "    x = int(input(\"Enter a number: \"))\n",
    "    y = int(input(\"Enter another number: \"))\n",
    "    \n",
    "    try:\n",
    "        result = x / y\n",
    "        print(\"Result:\", result)\n",
    "    except ZeroDivisionError:\n",
    "        print(\"Error: Division by zero in inner try-except block\")\n",
    "finally:\n",
    "    print('result executed')"
   ]
  },
  {
   "cell_type": "markdown",
   "id": "32ec3c54",
   "metadata": {},
   "source": [
    "## 3.How can you create a custom exception class in Python? Provide an example that demonstrates its usage\n",
    "\n",
    "Ans:"
   ]
  },
  {
   "cell_type": "code",
   "execution_count": 19,
   "id": "cdad2d70",
   "metadata": {},
   "outputs": [],
   "source": [
    "def divide(x, y):\n",
    "    try:\n",
    "        out = x/y\n",
    "    except:\n",
    "        try:\n",
    "            out = np.inf * x / abs(x)\n",
    "        except:\n",
    "            out = np.nan\n",
    "    finally:\n",
    "        return out"
   ]
  },
  {
   "cell_type": "code",
   "execution_count": 20,
   "id": "80b23b85",
   "metadata": {},
   "outputs": [
    {
     "data": {
      "text/plain": [
       "12.0"
      ]
     },
     "execution_count": 20,
     "metadata": {},
     "output_type": "execute_result"
    }
   ],
   "source": [
    "divide(24,2)"
   ]
  },
  {
   "cell_type": "code",
   "execution_count": null,
   "id": "01e49cd0",
   "metadata": {},
   "outputs": [],
   "source": []
  },
  {
   "cell_type": "code",
   "execution_count": null,
   "id": "a2d739a4",
   "metadata": {},
   "outputs": [],
   "source": []
  },
  {
   "cell_type": "code",
   "execution_count": null,
   "id": "d9a18c2e",
   "metadata": {},
   "outputs": [],
   "source": []
  },
  {
   "cell_type": "code",
   "execution_count": null,
   "id": "baa5fe9d",
   "metadata": {},
   "outputs": [],
   "source": []
  },
  {
   "cell_type": "code",
   "execution_count": null,
   "id": "848ce4f0",
   "metadata": {},
   "outputs": [],
   "source": []
  },
  {
   "cell_type": "code",
   "execution_count": null,
   "id": "679319e6",
   "metadata": {},
   "outputs": [],
   "source": []
  },
  {
   "cell_type": "code",
   "execution_count": null,
   "id": "6168edee",
   "metadata": {},
   "outputs": [],
   "source": []
  },
  {
   "cell_type": "code",
   "execution_count": null,
   "id": "ea8fe090",
   "metadata": {},
   "outputs": [],
   "source": []
  },
  {
   "cell_type": "code",
   "execution_count": null,
   "id": "eb5efbaf",
   "metadata": {},
   "outputs": [],
   "source": []
  }
 ],
 "metadata": {
  "kernelspec": {
   "display_name": "Python 3 (ipykernel)",
   "language": "python",
   "name": "python3"
  },
  "language_info": {
   "codemirror_mode": {
    "name": "ipython",
    "version": 3
   },
   "file_extension": ".py",
   "mimetype": "text/x-python",
   "name": "python",
   "nbconvert_exporter": "python",
   "pygments_lexer": "ipython3",
   "version": "3.9.7"
  }
 },
 "nbformat": 4,
 "nbformat_minor": 5
}
