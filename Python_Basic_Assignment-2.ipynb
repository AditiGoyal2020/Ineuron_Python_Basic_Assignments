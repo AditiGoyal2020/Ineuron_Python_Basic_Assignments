{
 "cells": [
  {
   "cell_type": "markdown",
   "id": "a6f92131",
   "metadata": {},
   "source": [
    "## 1.What are the two values of the Boolean data type? How do you write them?\n",
    "\n",
    "Ans:\n",
    "Two values of boolean data types are:\n",
    "True and False\n",
    "\n",
    "It can be written as 0 or 1."
   ]
  },
  {
   "cell_type": "markdown",
   "id": "1754dc0c",
   "metadata": {},
   "source": [
    "## 2. What are the three different types of Boolean operators?\n",
    "\n",
    "Ans:\n",
    "i) AND\n",
    "ii) OR\n",
    "iii) NOT"
   ]
  },
  {
   "cell_type": "markdown",
   "id": "48389631",
   "metadata": {},
   "source": [
    "## 3. Make a list of each Boolean operator's truth tables\n",
    "(i.e. every possible combination of Boolean values for the operator and what it evaluate ).\n",
    "\n",
    "Ans:\n",
    "i) True AND True\n",
    "ii) True NOT True\n",
    "iii) True OR True"
   ]
  },
  {
   "cell_type": "markdown",
   "id": "5fa475e4",
   "metadata": {},
   "source": [
    "## 4. What are the values of the following expressions?\n",
    "\n",
    "Ans:\n",
    "i) (5 > 4) and (3 == 5) --> False\n",
    "\n",
    "ii) not (5 > 4)  --> False\n",
    "\n",
    "iii) (5 > 4) or (3 == 5) --> True\n",
    "\n",
    "iv) not ((5 > 4) or (3 == 5)) --> False\n",
    "\n",
    "v) (True and True) and (True == False) --> False\n",
    "\n",
    "vi) (not False) or (not True) --> True"
   ]
  },
  {
   "cell_type": "markdown",
   "id": "423be887",
   "metadata": {},
   "source": [
    "## 5. What are the six comparison operators?\n",
    "\n",
    "Ans:\n",
    "i) less than ( < ),\n",
    "\n",
    "ii) less than or equal to ( <= ),\n",
    "\n",
    "iii) greater than ( > ),\n",
    "\n",
    "iv) greater than or equal to ( >= ),\n",
    "\n",
    "v) equal to ( == ),\n",
    "\n",
    "vi) not equal to ( != )"
   ]
  },
  {
   "cell_type": "markdown",
   "id": "bbe8e0d4",
   "metadata": {},
   "source": [
    "## 6. How do you tell the difference between the equal to and assignment operators?Describe a condition and when you would use one.\n",
    "\n",
    "Ans:\n",
    "The '==' is the so-called equality comparison operator and is used to check whether the two expressions on both sides are equal or not.\n",
    "\n",
    "The '=' is the so-called assignment operator and is used to assign the result of the expression on the right side of the operator to the variable on the left side. "
   ]
  },
  {
   "cell_type": "markdown",
   "id": "54a6c1fe",
   "metadata": {},
   "source": [
    "## 7. Identify the three blocks in this code:\n",
    "\n",
    "Ans:\n",
    "\n",
    "spam = 0\n",
    "\n",
    "if spam == 10:\n",
    "    print('eggs')\n",
    "\n",
    "if spam > 5:\n",
    "    print('bacon')\n",
    "\n",
    "else:\n",
    "    print('ham')\n",
    "    print('spam')\n",
    "    print('spam')"
   ]
  },
  {
   "cell_type": "markdown",
   "id": "1473751d",
   "metadata": {},
   "source": [
    "## 8. Write code that prints Hello if 1 is stored in spam, prints Howdy if 2 is stored in spam, and prints Greetings! if anything else is stored in spam.\n",
    "\n",
    "Ans:\n",
    "spam = 1\n",
    "\n",
    "if spam == 1:\n",
    "    print(\"Hello\")\n",
    "    \n",
    "elif spam == 2:\n",
    "    print(\"Howdy\")\n",
    "    \n",
    "else:\n",
    "    print(\"Greetings\")"
   ]
  },
  {
   "cell_type": "markdown",
   "id": "4a9b590b",
   "metadata": {},
   "source": [
    "## 9.If your programme is stuck in an endless loop, what keys you’ll press?\n",
    "\n",
    "Ans:\n",
    "CTRL + C "
   ]
  },
  {
   "cell_type": "markdown",
   "id": "275e8c0c",
   "metadata": {},
   "source": [
    "## 10. How can you tell the difference between break and continue?\n",
    "\n",
    "Ans:\n",
    "Break will stop complete iteration of the loop.\n",
    "\n",
    "Continue will stop current iteration of the loop."
   ]
  },
  {
   "cell_type": "markdown",
   "id": "a6e4c54e",
   "metadata": {},
   "source": [
    "## 11. In a for loop, what is the difference between range(10), range(0, 10), and range(0, 10, 1)?\n",
    "\n",
    "Ans:\n",
    "\n",
    "range(10) defines range upto 10.\n",
    "\n",
    "range(0,10) defines range between 0 and 10.\n",
    "\n",
    "range(0,10,1) defines range between 0 and 10 with step 1"
   ]
  },
  {
   "cell_type": "markdown",
   "id": "2deb74a9",
   "metadata": {},
   "source": [
    "## 12. Write a short program that prints the numbers 1 to 10 using a for loop. Then write an equivalent program that prints the numbers 1 to 10 using a while loop.\n",
    "\n",
    "Ans:\n",
    "i) Using for loop\n",
    "\n",
    "for i in range(1,10):\n",
    "    \n",
    "    print(i)\n",
    "    \n",
    "ii) Using while loop\n",
    "i = 1\n",
    "\n",
    "while (i <= 10):\n",
    "    \n",
    "    print(i)\n",
    "    \n",
    "    i = i+1"
   ]
  },
  {
   "cell_type": "markdown",
   "id": "0124e315",
   "metadata": {},
   "source": [
    "## 13. If you had a function named bacon() inside a module named spam,how would you call it after importing spam?\n",
    "\n",
    "Ans:\n",
    "\n",
    "import spam\n",
    "\n",
    "spam.bacon()"
   ]
  },
  {
   "cell_type": "code",
   "execution_count": null,
   "id": "e0cc8057",
   "metadata": {},
   "outputs": [],
   "source": []
  },
  {
   "cell_type": "code",
   "execution_count": null,
   "id": "f69766c4",
   "metadata": {},
   "outputs": [],
   "source": []
  },
  {
   "cell_type": "code",
   "execution_count": null,
   "id": "16c1d675",
   "metadata": {},
   "outputs": [],
   "source": []
  }
 ],
 "metadata": {
  "kernelspec": {
   "display_name": "Python 3 (ipykernel)",
   "language": "python",
   "name": "python3"
  },
  "language_info": {
   "codemirror_mode": {
    "name": "ipython",
    "version": 3
   },
   "file_extension": ".py",
   "mimetype": "text/x-python",
   "name": "python",
   "nbconvert_exporter": "python",
   "pygments_lexer": "ipython3",
   "version": "3.9.7"
  }
 },
 "nbformat": 4,
 "nbformat_minor": 5
}
