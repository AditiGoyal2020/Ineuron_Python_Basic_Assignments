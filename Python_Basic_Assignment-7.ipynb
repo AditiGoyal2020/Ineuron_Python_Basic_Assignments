{
 "cells": [
  {
   "cell_type": "markdown",
   "id": "81fb7da3",
   "metadata": {},
   "source": [
    "## Q.1. Create two int type variables, apply addition, subtraction, division and multiplications and store the results in variables. Then print the data in the following format by calling the variables.\n",
    "\n",
    "Ans:\n",
    "X  = int(input(\"first variable is:\" ))\n",
    "y = int(input(\"Second variable is:\" ))\n",
    "\n",
    "def various_opp(X, y):\n",
    "    Addition = (X+y), \n",
    "    Subtraction =  (X-y) \n",
    "    Multiplication = (X*y)\n",
    "    Division = (X/y)\n",
    "    return Addition, Subtraction, Multiplication, Division\n",
    "    \n",
    "various_opp(X,y)"
   ]
  },
  {
   "cell_type": "markdown",
   "id": "b3168e9b",
   "metadata": {},
   "source": [
    "## Q.2. What is the difference between the following operators:(i) ‘/’ & ‘//’ (ii) ‘**’ & ‘^’\n",
    "\n",
    "Ans:\n",
    "\n",
    "'/' This is the normal didvision operator and'//' This is the floor division operator.\n",
    "\n",
    "'**' Exponentiation and ‘^’ is for XOR."
   ]
  },
  {
   "cell_type": "markdown",
   "id": "5236a984",
   "metadata": {},
   "source": [
    "## Q.3. List the logical operators.\n",
    "\n",
    "Ans:\n",
    "There are three logical operators:\n",
    "i) AND\n",
    "ii) OR\n",
    "iii) NOT"
   ]
  },
  {
   "cell_type": "markdown",
   "id": "87c30367",
   "metadata": {},
   "source": [
    "## Q.4. Explain right shift operator and left shift operator with examples.\n",
    "\n",
    "Ans:\n",
    "right shift - The left operand's value is moved toward right by the number of bits specified by the right operand.\n",
    "\n",
    "left shift - The left operand's value is moved toward left by the number of bits specified by the right operand."
   ]
  },
  {
   "cell_type": "markdown",
   "id": "cda9f1ba",
   "metadata": {},
   "source": [
    "## Q.5. Create a list containing int type data of length 15. Then write a code to check if 10 is present in the list or not.\n",
    "\n",
    "Ans:\n",
    "\n",
    "l1 = [89, 90, 90 ,\"jhhgd\", 90, \"bxjhs\", 10]\n",
    "\n",
    "for i in l1:\n",
    "    if i == 10:\n",
    "        print(type(i) , \"Perfect 10\")\n",
    "    else:\n",
    "        print(type(i))\n",
    "\n",
    "print(\"Length of list is:\", len(l1))"
   ]
  },
  {
   "cell_type": "code",
   "execution_count": 10,
   "id": "957b7880",
   "metadata": {},
   "outputs": [],
   "source": []
  },
  {
   "cell_type": "code",
   "execution_count": null,
   "id": "da91ec04",
   "metadata": {},
   "outputs": [],
   "source": []
  },
  {
   "cell_type": "code",
   "execution_count": null,
   "id": "f1400f39",
   "metadata": {},
   "outputs": [],
   "source": []
  },
  {
   "cell_type": "code",
   "execution_count": null,
   "id": "a8cee7e9",
   "metadata": {},
   "outputs": [],
   "source": []
  },
  {
   "cell_type": "code",
   "execution_count": null,
   "id": "736fb348",
   "metadata": {},
   "outputs": [],
   "source": []
  },
  {
   "cell_type": "code",
   "execution_count": null,
   "id": "0b251482",
   "metadata": {},
   "outputs": [],
   "source": []
  },
  {
   "cell_type": "code",
   "execution_count": null,
   "id": "2a671b1d",
   "metadata": {},
   "outputs": [],
   "source": []
  },
  {
   "cell_type": "code",
   "execution_count": null,
   "id": "ad71b4a6",
   "metadata": {},
   "outputs": [],
   "source": []
  },
  {
   "cell_type": "code",
   "execution_count": null,
   "id": "2420aaa8",
   "metadata": {},
   "outputs": [],
   "source": []
  },
  {
   "cell_type": "code",
   "execution_count": null,
   "id": "0398ae90",
   "metadata": {},
   "outputs": [],
   "source": []
  },
  {
   "cell_type": "code",
   "execution_count": null,
   "id": "79302ead",
   "metadata": {},
   "outputs": [],
   "source": []
  },
  {
   "cell_type": "code",
   "execution_count": null,
   "id": "04758dca",
   "metadata": {},
   "outputs": [],
   "source": []
  },
  {
   "cell_type": "code",
   "execution_count": null,
   "id": "239cad8a",
   "metadata": {},
   "outputs": [],
   "source": []
  },
  {
   "cell_type": "code",
   "execution_count": null,
   "id": "d8b14d84",
   "metadata": {},
   "outputs": [],
   "source": []
  },
  {
   "cell_type": "code",
   "execution_count": null,
   "id": "acb89f25",
   "metadata": {},
   "outputs": [],
   "source": []
  },
  {
   "cell_type": "code",
   "execution_count": null,
   "id": "3713a8b9",
   "metadata": {},
   "outputs": [],
   "source": []
  },
  {
   "cell_type": "code",
   "execution_count": null,
   "id": "365f10fe",
   "metadata": {},
   "outputs": [],
   "source": []
  },
  {
   "cell_type": "code",
   "execution_count": null,
   "id": "9ffe45bd",
   "metadata": {},
   "outputs": [],
   "source": []
  },
  {
   "cell_type": "code",
   "execution_count": null,
   "id": "b141fea0",
   "metadata": {},
   "outputs": [],
   "source": []
  },
  {
   "cell_type": "code",
   "execution_count": null,
   "id": "27fba7af",
   "metadata": {},
   "outputs": [],
   "source": []
  }
 ],
 "metadata": {
  "kernelspec": {
   "display_name": "Python 3 (ipykernel)",
   "language": "python",
   "name": "python3"
  },
  "language_info": {
   "codemirror_mode": {
    "name": "ipython",
    "version": 3
   },
   "file_extension": ".py",
   "mimetype": "text/x-python",
   "name": "python",
   "nbconvert_exporter": "python",
   "pygments_lexer": "ipython3",
   "version": "3.9.7"
  }
 },
 "nbformat": 4,
 "nbformat_minor": 5
}
